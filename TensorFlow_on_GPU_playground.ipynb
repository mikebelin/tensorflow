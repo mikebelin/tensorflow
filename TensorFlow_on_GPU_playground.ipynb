{
  "nbformat": 4,
  "nbformat_minor": 0,
  "metadata": {
    "colab": {
      "name": "TensorFlow on GPU playground",
      "version": "0.3.2",
      "provenance": [],
      "collapsed_sections": [],
      "toc_visible": true,
      "include_colab_link": true
    },
    "kernelspec": {
      "name": "python3",
      "display_name": "Python 3"
    },
    "accelerator": "GPU"
  },
  "cells": [
    {
      "cell_type": "markdown",
      "metadata": {
        "id": "view-in-github",
        "colab_type": "text"
      },
      "source": [
        "[View in Colaboratory](https://colab.research.google.com/github/mikebelin/tensorflow/blob/master/TensorFlow_on_GPU_playground.ipynb)"
      ]
    },
    {
      "metadata": {
        "id": "BlmQIFSLZDdc",
        "colab_type": "text"
      },
      "cell_type": "markdown",
      "source": [
        "# TensorFlow on GPU playground"
      ]
    },
    {
      "metadata": {
        "id": "STwYcmodJQXD",
        "colab_type": "code",
        "colab": {}
      },
      "cell_type": "code",
      "source": [
        ""
      ],
      "execution_count": 0,
      "outputs": []
    },
    {
      "metadata": {
        "id": "fi9lhV2J3TAL",
        "colab_type": "text"
      },
      "cell_type": "markdown",
      "source": [
        "## Introduction to Colab"
      ]
    },
    {
      "metadata": {
        "id": "2ID1icNcAQQk",
        "colab_type": "code",
        "colab": {}
      },
      "cell_type": "code",
      "source": [
        "import tensorflow as tf\n"
      ],
      "execution_count": 0,
      "outputs": []
    },
    {
      "metadata": {
        "id": "S-Tu9n0Izftf",
        "colab_type": "text"
      },
      "cell_type": "markdown",
      "source": [
        "### Install dependencies you need for your Python environment\n",
        "Dependencies are added to your private virtual machine."
      ]
    },
    {
      "metadata": {
        "id": "yu94_hV4zeDw",
        "colab_type": "code",
        "colab": {}
      },
      "cell_type": "code",
      "source": [
        "!pip install -q seaborn==0.9.0"
      ],
      "execution_count": 0,
      "outputs": []
    },
    {
      "metadata": {
        "id": "EQo6SFaa1YZi",
        "colab_type": "text"
      },
      "cell_type": "markdown",
      "source": [
        "Test that plotting libraries are working:"
      ]
    },
    {
      "metadata": {
        "id": "Pkx-oGH006Vc",
        "colab_type": "code",
        "colab": {
          "base_uri": "https://localhost:8080/",
          "height": 286
        },
        "outputId": "2076142e-6192-41e3-9d16-34ed25e8fcb6"
      },
      "cell_type": "code",
      "source": [
        "import matplotlib.pyplot as plt\n",
        "import numpy as np\n",
        "import seaborn as sns\n",
        "\n",
        "# Generate some random data\n",
        "num_points = 20\n",
        "# x will be 5, 6, 7... but also twiddled randomly\n",
        "x = 5 + np.arange(num_points) + np.random.randn(num_points)\n",
        "# y will be 10, 11, 12... but twiddled even more randomly\n",
        "y = 10 + np.arange(num_points) + 5 * np.random.randn(num_points)\n",
        "sns.regplot(x, y)"
      ],
      "execution_count": 0,
      "outputs": [
        {
          "output_type": "execute_result",
          "data": {
            "text/plain": [
              "<matplotlib.axes._subplots.AxesSubplot at 0x7f7c72172f98>"
            ]
          },
          "metadata": {
            "tags": []
          },
          "execution_count": 28
        },
        {
          "output_type": "display_data",
          "data": {
            "image/png": "[encoded data removed]",
            "text/plain": [
              "<matplotlib.figure.Figure at 0x7f7c7215fef0>"
            ]
          },
          "metadata": {
            "tags": []
          }
        }
      ]
    },
    {
      "metadata": {
        "id": "fEVJAC3Z3FY0",
        "colab_type": "text"
      },
      "cell_type": "markdown",
      "source": [
        "Using `sns.relplot` requires a new version of `seaborn` installed above (make sure you have restarted the runtime after installation)."
      ]
    },
    {
      "metadata": {
        "id": "-8wYbXZ4z4ab",
        "colab_type": "code",
        "colab": {
          "base_uri": "https://localhost:8080/",
          "height": 369
        },
        "outputId": "72c8ffcc-1b3c-4ed8-a3d0-ada6c3d1950f"
      },
      "cell_type": "code",
      "source": [
        "import seaborn as sns\n",
        "tips = sns.load_dataset(\"tips\")\n",
        "sns.relplot(x=\"total_bill\", y=\"tip\", data=tips);\n",
        "plt.show()"
      ],
      "execution_count": 0,
      "outputs": [
        {
          "output_type": "display_data",
          "data": {
            "image/png": "[encoded data removed]",
            "text/plain": [
              "<matplotlib.figure.Figure at 0x7f7d0ab8de48>"
            ]
          },
          "metadata": {
            "tags": []
          }
        }
      ]
    },
    {
      "metadata": {
        "id": "bYBiDcvGAcSo",
        "colab_type": "code",
        "colab": {
          "base_uri": "https://localhost:8080/",
          "height": 51
        },
        "outputId": "e6ba1bf2-b420-486a-984d-e41c539e74b7"
      },
      "cell_type": "code",
      "source": [
        "!ls"
      ],
      "execution_count": 0,
      "outputs": [
        {
          "output_type": "stream",
          "text": [
            "chap-11-ex-8  my_model.ckpt.data-00000-of-00001  my_model.ckpt.meta\n",
            "checkpoint    my_model.ckpt.index\t\t sample_data\n"
          ],
          "name": "stdout"
        }
      ]
    },
    {
      "metadata": {
        "id": "Pv5dEDt-4SJx",
        "colab_type": "code",
        "colab": {
          "base_uri": "https://localhost:8080/",
          "height": 289
        },
        "outputId": "8d78ba89-89e0-44ac-80e3-f6cba420a207"
      },
      "cell_type": "code",
      "source": [
        "!nvidia-smi"
      ],
      "execution_count": 0,
      "outputs": [
        {
          "output_type": "stream",
          "text": [
            "Tue Sep 18 14:08:17 2018       \n",
            "+-----------------------------------------------------------------------------+\n",
            "| NVIDIA-SMI 384.111                Driver Version: 384.111                   |\n",
            "|-------------------------------+----------------------+----------------------+\n",
            "| GPU  Name        Persistence-M| Bus-Id        Disp.A | Volatile Uncorr. ECC |\n",
            "| Fan  Temp  Perf  Pwr:Usage/Cap|         Memory-Usage | GPU-Util  Compute M. |\n",
            "|===============================+======================+======================|\n",
            "|   0  Tesla K80           Off  | 00000000:00:04.0 Off |                    0 |\n",
            "| N/A   35C    P0    57W / 149W |  10936MiB / 11439MiB |      0%      Default |\n",
            "+-------------------------------+----------------------+----------------------+\n",
            "                                                                               \n",
            "+-----------------------------------------------------------------------------+\n",
            "| Processes:                                                       GPU Memory |\n",
            "|  GPU       PID   Type   Process name                             Usage      |\n",
            "|=============================================================================|\n",
            "+-----------------------------------------------------------------------------+\n"
          ],
          "name": "stdout"
        }
      ]
    },
    {
      "metadata": {
        "id": "aO8UtuxhzodK",
        "colab_type": "text"
      },
      "cell_type": "markdown",
      "source": [
        "\n",
        "### Run TensorFlow on GPU \n",
        "Select \"GPU\" in the Runtime -> Change runtime in Notebook Settings. Then check that GPU is available."
      ]
    },
    {
      "metadata": {
        "id": "3IEVK-KFxi5Z",
        "colab_type": "code",
        "colab": {
          "base_uri": "https://localhost:8080/",
          "height": 34
        },
        "outputId": "d3d5baec-d123-4fc6-c69b-967c94a4f445"
      },
      "cell_type": "code",
      "source": [
        "import tensorflow as tf\n",
        "device_name = tf.test.gpu_device_name()\n",
        "if device_name != '/device:GPU:0':\n",
        "  raise SystemError('GPU device not found')\n",
        "print('Found GPU at: {}'.format(device_name))"
      ],
      "execution_count": 0,
      "outputs": [
        {
          "output_type": "stream",
          "text": [
            "Found GPU at: /device:GPU:0\n"
          ],
          "name": "stdout"
        }
      ]
    },
    {
      "metadata": {
        "id": "0COu4abR3uxa",
        "colab_type": "text"
      },
      "cell_type": "markdown",
      "source": [
        "List available devices:"
      ]
    },
    {
      "metadata": {
        "id": "RaWPvMLf3xHB",
        "colab_type": "code",
        "colab": {
          "base_uri": "https://localhost:8080/",
          "height": 331
        },
        "outputId": "88663eb4-71f7-42d2-9b4c-1e25814762ee"
      },
      "cell_type": "code",
      "source": [
        "from tensorflow.python.client import device_lib\n",
        "print(device_lib.list_local_devices())"
      ],
      "execution_count": 0,
      "outputs": [
        {
          "output_type": "stream",
          "text": [
            "[name: \"/device:CPU:0\"\n",
            "device_type: \"CPU\"\n",
            "memory_limit: 268435456\n",
            "locality {\n",
            "}\n",
            "incarnation: 18226390409830666539\n",
            ", name: \"/device:GPU:0\"\n",
            "device_type: \"GPU\"\n",
            "memory_limit: 11281989632\n",
            "locality {\n",
            "  bus_id: 1\n",
            "  links {\n",
            "  }\n",
            "}\n",
            "incarnation: 9907313708245707620\n",
            "physical_device_desc: \"device: 0, name: Tesla K80, pci bus id: 0000:00:04.0, compute capability: 3.7\"\n",
            "]\n"
          ],
          "name": "stdout"
        }
      ]
    },
    {
      "metadata": {
        "id": "0IHhBrjn3i1e",
        "colab_type": "text"
      },
      "cell_type": "markdown",
      "source": [
        "Perform a simple computation on GPU:"
      ]
    },
    {
      "metadata": {
        "id": "BjRQSWUCBti0",
        "colab_type": "code",
        "colab": {
          "base_uri": "https://localhost:8080/",
          "height": 52
        },
        "outputId": "0adf469e-0583-4dc7-9a69-072a16760cd6"
      },
      "cell_type": "code",
      "source": [
        "import tensorflow as tf\n",
        "tf.reset_default_graph()\n",
        "\n",
        "x = tf.placeholder(shape=(None), dtype=tf.float32, name='x')\n",
        "y = 2*x\n",
        "z = y+3\n",
        "\n",
        "sess = tf.Session()\n",
        "\n",
        "# graph = tf.get_default_graph()\n",
        "z_val = sess.run(z, feed_dict={x: [1.0, 2.0]})\n",
        "print(z_val)\n",
        "sess.close()\n",
        "\n",
        "# Prettier way without `sess.close()`\n",
        "with tf.Session() as sess:\n",
        "  z_val = sess.run(z, feed_dict={x: [2.0, 3.0]})\n",
        "  print(z_val)\n",
        "\n",
        "\n"
      ],
      "execution_count": 0,
      "outputs": [
        {
          "output_type": "stream",
          "text": [
            "[5. 7.]\n",
            "[7. 9.]\n"
          ],
          "name": "stdout"
        }
      ]
    },
    {
      "metadata": {
        "id": "Zx4E9xLmrjCn",
        "colab_type": "code",
        "colab": {
          "base_uri": "https://localhost:8080/",
          "height": 295
        },
        "outputId": "404173b5-4cc6-44f2-fce4-2d7c4cf09d14"
      },
      "cell_type": "code",
      "source": [
        "# Create a graph\n",
        "tf.reset_default_graph()\n",
        "\n",
        "# Place placeholders on CPU\n",
        "with tf.device('/cpu:0'):\n",
        "  a = tf.placeholder(shape=(None), dtype=tf.float32, name='a')\n",
        "  b = tf.placeholder(shape=(None), dtype=tf.float32, name='b')\n",
        "\n",
        "# Perform elementwise multiplication and reduce_sum on GPU (copying a and b values there under the hood)\n",
        "with tf.device('/gpu:0'):\n",
        "  c = tf.multiply(a, b, name='c')\n",
        "  d = tf.reduce_sum(c, name='d')\n",
        "\n",
        " \n",
        "# Creates a session with log_device_placement set to True.\n",
        "with tf.Session(config=tf.ConfigProto(log_device_placement=True, allow_soft_placement=False)) as sess:\n",
        "  # Add metadata options to see where operations where placed\n",
        "  options = tf.RunOptions(output_partition_graphs=True)\n",
        "  metadata = tf.RunMetadata()\n",
        "  # Runs the op\n",
        "  d_val = sess.run(d, options=options, run_metadata=metadata, \n",
        "                          feed_dict={a: [1.0, 2.0, 3.0, 4.0, 5.0, 6.0],\n",
        "                                    b: [1.0, 2.0, 3.0, 4.0, 5.0, 6.0]})\n",
        "  print('Result: %f' % d_val)  \n",
        "  \n",
        "for partition_graph in metadata.partition_graphs:\n",
        "  nodes = partition_graph.node\n",
        "  for n in nodes:\n",
        "    print('Name %s, op %s, device %s' % (n.name, n.op, n.device))\n",
        "    # print(n)\n"
      ],
      "execution_count": 0,
      "outputs": [
        {
          "output_type": "stream",
          "text": [
            "Result: 91.000000\n",
            "Name range/start, op Const, device /job:localhost/replica:0/task:0/device:GPU:0\n",
            "Name range/delta, op Const, device /job:localhost/replica:0/task:0/device:GPU:0\n",
            "Name _arg_a_0_0/_1, op _Recv, device /job:localhost/replica:0/task:0/device:GPU:0\n",
            "Name _arg_b_0_1/_3, op _Recv, device /job:localhost/replica:0/task:0/device:GPU:0\n",
            "Name c, op Mul, device /job:localhost/replica:0/task:0/device:GPU:0\n",
            "Name Rank, op Rank, device /job:localhost/replica:0/task:0/device:GPU:0\n",
            "Name range, op Range, device /job:localhost/replica:0/task:0/device:GPU:0\n",
            "Name d, op Sum, device /job:localhost/replica:0/task:0/device:GPU:0\n",
            "Name d/_4, op _Send, device /job:localhost/replica:0/task:0/device:GPU:0\n",
            "Name _arg_a_0_0, op _Arg, device /job:localhost/replica:0/task:0/device:CPU:0\n",
            "Name _arg_a_0_0/_0, op _Send, device /job:localhost/replica:0/task:0/device:CPU:0\n",
            "Name _arg_b_0_1, op _Arg, device /job:localhost/replica:0/task:0/device:CPU:0\n",
            "Name _arg_b_0_1/_2, op _Send, device /job:localhost/replica:0/task:0/device:CPU:0\n",
            "Name d/_5, op _Recv, device /job:localhost/replica:0/task:0/device:CPU:0\n",
            "Name _retval_d_0_0, op _Retval, device /job:localhost/replica:0/task:0/device:CPU:0\n"
          ],
          "name": "stdout"
        }
      ]
    },
    {
      "metadata": {
        "id": "QUtKEFIs8L-q",
        "colab_type": "text"
      },
      "cell_type": "markdown",
      "source": [
        "### Distributed TensorFlow (just horsing around, skip this for now)"
      ]
    },
    {
      "metadata": {
        "id": "x4CYSNob6hZv",
        "colab_type": "code",
        "colab": {}
      },
      "cell_type": "code",
      "source": [
        "c = tf.constant(\"Hello distributed TensorFlow!\")\n",
        "server = tf.train.Server.create_local_server()"
      ],
      "execution_count": 0,
      "outputs": []
    },
    {
      "metadata": {
        "id": "0QrUvQHM6hKj",
        "colab_type": "code",
        "colab": {
          "base_uri": "https://localhost:8080/",
          "height": 34
        },
        "outputId": "99bb9d41-5599-473c-92cc-0d476cea3309"
      },
      "cell_type": "code",
      "source": [
        "with tf.Session(server.target) as sess:\n",
        "    print(sess.run(c))"
      ],
      "execution_count": 0,
      "outputs": [
        {
          "output_type": "stream",
          "text": [
            "b'Hello distributed TensorFlow!'\n"
          ],
          "name": "stdout"
        }
      ]
    },
    {
      "metadata": {
        "id": "Oe2wuqPs6vKO",
        "colab_type": "code",
        "colab": {}
      },
      "cell_type": "code",
      "source": [
        "cluster_spec = tf.train.ClusterSpec({\n",
        "    \"ps\": [\n",
        "        \"127.0.0.1:2221\",  # /job:ps/task:0\n",
        "        # \"127.0.0.1:2222\",  # /job:ps/task:1\n",
        "    ],\n",
        "    \"worker\": [\n",
        "        # \"127.0.0.1:2223\",  # /job:worker/task:0\n",
        "        # \"127.0.0.1:2224\",  # /job:worker/task:1\n",
        "        # \"127.0.0.1:2225\",  # /job:worker/task:2\n",
        "    ]})\n",
        "task_ps0 = tf.train.Server(cluster_spec, job_name=\"ps\", task_index=0)"
      ],
      "execution_count": 0,
      "outputs": []
    },
    {
      "metadata": {
        "id": "HPE7rDL564BW",
        "colab_type": "code",
        "colab": {}
      },
      "cell_type": "code",
      "source": [
        "tf.reset_default_graph()\n",
        "\n",
        "with tf.device(\"/job:ps\"):\n",
        "    a = tf.Variable(1.0, name=\"a\")\n",
        "    c = 2 * a\n",
        "\n",
        "with tf.Session(\"grpc://127.0.0.1:2221\") as sess:\n",
        "  sess.run(a.initializer)\n",
        "  print(c.eval())"
      ],
      "execution_count": 0,
      "outputs": []
    },
    {
      "metadata": {
        "id": "QXRh0DPiZRyG",
        "colab_type": "text"
      },
      "cell_type": "markdown",
      "source": [
        "# Observe TensorFlow speedup on GPU relative to CPU\n",
        "Copied from the Colab examples.\n",
        "\n",
        "This example constructs a typical convolutional neural network layer over a\n",
        "random image and manually places the resulting ops on either the CPU or the GPU to compare execution speed. Note that this takes a LOT of memory from GPU, so you may need to restart runtime if you encounter out-of-memory errors."
      ]
    },
    {
      "metadata": {
        "id": "t9ALbbpmY9rm",
        "colab_type": "code",
        "colab": {
          "base_uri": "https://localhost:8080/",
          "height": 139
        },
        "outputId": "ffcc6b9d-1504-49c0-bbde-af4d730d3fa0"
      },
      "cell_type": "code",
      "source": [
        "import tensorflow as tf\n",
        "import timeit\n",
        "\n",
        "# See https://www.tensorflow.org/tutorials/using_gpu#allowing_gpu_memory_growth\n",
        "config = tf.ConfigProto()\n",
        "config.gpu_options.allow_growth = True\n",
        "\n",
        "with tf.device('/cpu:0'):\n",
        "  random_image_cpu = tf.random_normal((100, 100, 100, 3))\n",
        "  net_cpu = tf.layers.conv2d(random_image_cpu, 32, 7)\n",
        "  net_cpu = tf.reduce_sum(net_cpu)\n",
        "\n",
        "with tf.device('/gpu:0'):\n",
        "  random_image_gpu = tf.random_normal((100, 100, 100, 3))\n",
        "  net_gpu = tf.layers.conv2d(random_image_gpu, 32, 7)\n",
        "  net_gpu = tf.reduce_sum(net_gpu)\n",
        "\n",
        "sess = tf.Session(config=config)\n",
        "\n",
        "# Test execution once to detect errors early.\n",
        "try:\n",
        "  sess.run(tf.global_variables_initializer())\n",
        "except tf.errors.InvalidArgumentError:\n",
        "  print(\n",
        "      '\\n\\nThis error most likely means that this notebook is not '\n",
        "      'configured to use a GPU.  Change this in Notebook Settings via the '\n",
        "      'command palette (cmd/ctrl-shift-P) or the Edit menu.\\n\\n')\n",
        "  raise\n",
        "\n",
        "def cpu():\n",
        "  sess.run(net_cpu)\n",
        "  \n",
        "def gpu():\n",
        "  sess.run(net_gpu)\n",
        "  \n",
        "# Runs the op several times.\n",
        "print('Time (s) to convolve 32x7x7x3 filter over random 100x100x100x3 images '\n",
        "      '(batch x height x width x channel). Sum of ten runs.')\n",
        "print('CPU (s):')\n",
        "cpu_time = timeit.timeit('cpu()', number=10, setup=\"from __main__ import cpu\")\n",
        "print(cpu_time)\n",
        "print('GPU (s):')\n",
        "gpu_time = timeit.timeit('gpu()', number=10, setup=\"from __main__ import gpu\")\n",
        "print(gpu_time)\n",
        "print('GPU speedup over CPU: {}x'.format(int(cpu_time/gpu_time)))\n",
        "\n",
        "sess.close()"
      ],
      "execution_count": 0,
      "outputs": [
        {
          "output_type": "stream",
          "text": [
            "Time (s) to convolve 32x7x7x3 filter over random 100x100x100x3 images (batch x height x width x channel). Sum of ten runs.\n",
            "CPU (s):\n",
            "8.487654705000296\n",
            "GPU (s):\n",
            "0.881815213000209\n",
            "GPU speedup over CPU: 9x\n"
          ],
          "name": "stdout"
        }
      ]
    },
    {
      "metadata": {
        "id": "tQwpYQkXdAOG",
        "colab_type": "text"
      },
      "cell_type": "markdown",
      "source": [
        "## Further examples"
      ]
    },
    {
      "metadata": {
        "id": "Et_Zc1dldEi3",
        "colab_type": "text"
      },
      "cell_type": "markdown",
      "source": [
        "### Train a classifier on MNIST dataset"
      ]
    },
    {
      "metadata": {
        "id": "BY6QLxMsdlFJ",
        "colab_type": "code",
        "colab": {
          "base_uri": "https://localhost:8080/",
          "height": 368
        },
        "outputId": "c750997b-cd9c-46ae-f6cd-53953edf2dc0"
      },
      "cell_type": "code",
      "source": [
        "import matplotlib\n",
        "import matplotlib.pyplot as plt\n",
        "from tensorflow.examples.tutorials.mnist import input_data\n",
        "mnist = input_data.read_data_sets(\"/tmp/mnist/data\")\n",
        "\n",
        "train_images = mnist.train.images\n",
        "\n",
        "digit_index = 3300\n",
        "\n",
        "some_digit = mnist.train.images[digit_index]\n",
        "some_digit_image = some_digit.reshape(28, 28)\n",
        "some_digit_label = mnist.train.labels[digit_index]\n",
        "plt.imshow(some_digit_image, cmap = matplotlib.cm.binary)\n",
        "plt.title('Label: %d' % some_digit_label)\n",
        "plt.axis(\"off\")"
      ],
      "execution_count": 0,
      "outputs": [
        {
          "output_type": "stream",
          "text": [
            "Extracting /tmp/mnist/data/train-images-idx3-ubyte.gz\n",
            "Extracting /tmp/mnist/data/train-labels-idx1-ubyte.gz\n",
            "Extracting /tmp/mnist/data/t10k-images-idx3-ubyte.gz\n",
            "Extracting /tmp/mnist/data/t10k-labels-idx1-ubyte.gz\n"
          ],
          "name": "stdout"
        },
        {
          "output_type": "execute_result",
          "data": {
            "text/plain": [
              "(-0.5, 27.5, 27.5, -0.5)"
            ]
          },
          "metadata": {
            "tags": []
          },
          "execution_count": 48
        },
        {
          "output_type": "display_data",
          "data": {
            "image/png": "[encoded data removed]",
            "text/plain": [
              "<matplotlib.figure.Figure at 0x7f7c44a614a8>"
            ]
          },
          "metadata": {
            "tags": []
          }
        }
      ]
    },
    {
      "metadata": {
        "id": "U-EbTpU6Z7Mf",
        "colab_type": "code",
        "colab": {
          "base_uri": "https://localhost:8080/",
          "height": 780
        },
        "outputId": "a739d0b5-2bee-495b-9978-c04e1e5ba119"
      },
      "cell_type": "code",
      "source": [
        "import tensorflow as tf\n",
        "\n",
        "n_inputs = 28*28\n",
        "n_hidden1 = 300\n",
        "n_hidden2 = 100\n",
        "n_outputs = 10\n",
        "\n",
        "tf.reset_default_graph()\n",
        "\n",
        "X = tf.placeholder(tf.float32, shape=(None, n_inputs), name=\"X\") # Number of training samples in batch not known and not required\n",
        "y = tf.placeholder(tf.int64, shape=(None), name=\"y\") # y is a 1D array with unknown length\n",
        "\n",
        "def neuron_layer(X, n_neurons, name, activation=lambda x: x):\n",
        "    with tf.name_scope(name):\n",
        "        n_inputs = int(X.get_shape()[1]) # Number of features\n",
        "        stddev = 2 / np.sqrt(n_inputs + n_neurons) # Xavier initialization\n",
        "        init = tf.truncated_normal((n_inputs, n_neurons), stddev=stddev) # Random initialization for weights\n",
        "        W = tf.Variable(init, name=\"kernel\") # Connection weights\n",
        "        b = tf.Variable(tf.zeros([n_neurons]), name=\"bias\") # Biases, can be initialized to zero\n",
        "        Z = tf.matmul(X, W) + b # Size (n_batch, n_neurons), bias vector b added to each row (each sample)\n",
        "        return activation(Z)\n",
        "\n",
        "\n",
        "with tf.name_scope(\"ann\"):\n",
        "    hidden1 = neuron_layer(X, n_hidden1, name=\"hidden1\", activation=tf.nn.relu)\n",
        "    hidden2 = neuron_layer(hidden1, n_hidden2, name=\"hidden2\", activation=tf.nn.relu)\n",
        "    logits = neuron_layer(hidden2, n_outputs, name=\"outputs\") # Unscaled as softmax computed later internally\n",
        "    \n",
        "\n",
        "with tf.name_scope(\"loss\"):\n",
        "    # This op expects unscaled logits, since it performs a softmax on logits internally for efficiency.\n",
        "    xentropy = tf.nn.sparse_softmax_cross_entropy_with_logits(labels=y, logits=logits)\n",
        "    loss = tf.reduce_mean(xentropy, name=\"loss\")\n",
        "    \n",
        "learning_rate = 0.01\n",
        "\n",
        "with tf.name_scope(\"train\"):\n",
        "    optimizer = tf.train.GradientDescentOptimizer(learning_rate=learning_rate)\n",
        "    training_op = optimizer.minimize(loss)\n",
        "\n",
        "# Evaluate performance by checking if the correct label is in top 1:\n",
        "with tf.name_scope(\"eval\"):\n",
        "    correct = tf.nn.in_top_k(logits, y, 1)\n",
        "    accuracy = tf.reduce_mean(tf.cast(correct, tf.float32))\n",
        "\n",
        "init = tf.global_variables_initializer()\n",
        "saver = tf.train.Saver()\n",
        "\n",
        "from tensorflow.examples.tutorials.mnist import input_data\n",
        "mnist = input_data.read_data_sets(\"/tmp/mnist/data\")\n",
        "\n",
        "n_epochs = 40\n",
        "batch_size = 50\n",
        "\n",
        "with tf.Session() as sess:\n",
        "    init.run()\n",
        "    for epoch in range(n_epochs):\n",
        "        for iteration in range(mnist.train.num_examples // batch_size):\n",
        "            X_batch, y_batch = mnist.train.next_batch(batch_size)\n",
        "            sess.run(training_op, feed_dict={X: X_batch, y: y_batch})\n",
        "        acc_train = accuracy.eval(feed_dict={X: X_batch, y: y_batch})\n",
        "        acc_val = accuracy.eval(feed_dict={X: mnist.validation.images, y: mnist.validation.labels})\n",
        "        print(epoch, \"Train accuracy:\", acc_train, \"Val accuracy\", acc_val)\n",
        "    save_path = saver.save(sess, \"./my_model.ckpt\")"
      ],
      "execution_count": 0,
      "outputs": [
        {
          "output_type": "stream",
          "text": [
            "Extracting /tmp/mnist/data/train-images-idx3-ubyte.gz\n",
            "Extracting /tmp/mnist/data/train-labels-idx1-ubyte.gz\n",
            "Extracting /tmp/mnist/data/t10k-images-idx3-ubyte.gz\n",
            "Extracting /tmp/mnist/data/t10k-labels-idx1-ubyte.gz\n",
            "0 Train accuracy: 0.92 Val accuracy 0.9154\n",
            "1 Train accuracy: 0.94 Val accuracy 0.9312\n",
            "2 Train accuracy: 0.94 Val accuracy 0.9396\n",
            "3 Train accuracy: 0.96 Val accuracy 0.9462\n",
            "4 Train accuracy: 0.92 Val accuracy 0.9514\n",
            "5 Train accuracy: 0.98 Val accuracy 0.9544\n",
            "6 Train accuracy: 0.98 Val accuracy 0.9576\n",
            "7 Train accuracy: 0.98 Val accuracy 0.9586\n",
            "8 Train accuracy: 0.98 Val accuracy 0.9608\n",
            "9 Train accuracy: 0.98 Val accuracy 0.9624\n",
            "10 Train accuracy: 0.94 Val accuracy 0.9628\n",
            "11 Train accuracy: 1.0 Val accuracy 0.966\n",
            "12 Train accuracy: 0.98 Val accuracy 0.966\n",
            "13 Train accuracy: 0.98 Val accuracy 0.969\n",
            "14 Train accuracy: 0.96 Val accuracy 0.9694\n",
            "15 Train accuracy: 0.96 Val accuracy 0.9712\n",
            "16 Train accuracy: 0.96 Val accuracy 0.9708\n",
            "17 Train accuracy: 0.98 Val accuracy 0.97\n",
            "18 Train accuracy: 1.0 Val accuracy 0.973\n",
            "19 Train accuracy: 1.0 Val accuracy 0.9742\n",
            "20 Train accuracy: 1.0 Val accuracy 0.972\n",
            "21 Train accuracy: 0.98 Val accuracy 0.9742\n",
            "22 Train accuracy: 1.0 Val accuracy 0.9734\n",
            "23 Train accuracy: 0.96 Val accuracy 0.9758\n",
            "24 Train accuracy: 0.98 Val accuracy 0.9736\n",
            "25 Train accuracy: 1.0 Val accuracy 0.9746\n",
            "26 Train accuracy: 1.0 Val accuracy 0.975\n",
            "27 Train accuracy: 0.98 Val accuracy 0.976\n",
            "28 Train accuracy: 1.0 Val accuracy 0.976\n",
            "29 Train accuracy: 1.0 Val accuracy 0.975\n",
            "30 Train accuracy: 1.0 Val accuracy 0.976\n",
            "31 Train accuracy: 1.0 Val accuracy 0.9774\n",
            "32 Train accuracy: 0.98 Val accuracy 0.9762\n",
            "33 Train accuracy: 1.0 Val accuracy 0.9776\n",
            "34 Train accuracy: 1.0 Val accuracy 0.9776\n",
            "35 Train accuracy: 0.98 Val accuracy 0.9762\n",
            "36 Train accuracy: 1.0 Val accuracy 0.9782\n",
            "37 Train accuracy: 0.98 Val accuracy 0.9774\n",
            "38 Train accuracy: 1.0 Val accuracy 0.9786\n",
            "39 Train accuracy: 1.0 Val accuracy 0.9782\n"
          ],
          "name": "stdout"
        }
      ]
    },
    {
      "metadata": {
        "id": "GhdtNzMScy_C",
        "colab_type": "text"
      },
      "cell_type": "markdown",
      "source": [
        "### Train a TensorFlow model with a [sklearn](http://scikit-learn.org/)-compatible class"
      ]
    },
    {
      "metadata": {
        "id": "2VgqNauucpJa",
        "colab_type": "code",
        "colab": {
          "base_uri": "https://localhost:8080/",
          "height": 119
        },
        "outputId": "dfb1c96d-2c8b-49d3-fd2a-13e8c5523b93"
      },
      "cell_type": "code",
      "source": [
        "from sklearn.base import BaseEstimator, ClassifierMixin\n",
        "from sklearn.exceptions import NotFittedError\n",
        "from datetime import datetime\n",
        "from tensorflow.examples.tutorials.mnist import input_data\n",
        "import tensorflow as tf\n",
        "import numpy as np\n",
        "import os\n",
        "\n",
        "class NeuralNetworkClassifier(BaseEstimator, ClassifierMixin):\n",
        "    \n",
        "    def __init__(self, \n",
        "                 n_hidden_layers=5,\n",
        "                 n_neurons=100, \n",
        "                 learning_rate=0.01, \n",
        "                 batch_size=100,\n",
        "                 # n_epochs=10,\n",
        "                 activation=tf.nn.elu, \n",
        "                 initializer=tf.variance_scaling_initializer(), \n",
        "                 random_state=42,\n",
        "                 dropout_rate=None,\n",
        "                 batch_norm_momentum=None,\n",
        "                 root_logdir='chap-11-ex-8'):\n",
        "\n",
        "        self.n_hidden_layers = n_hidden_layers\n",
        "        self.n_neurons = n_neurons\n",
        "        self.learning_rate = learning_rate\n",
        "        self.batch_size = batch_size\n",
        "        self.activation = activation\n",
        "        self.initializer = initializer\n",
        "        # self.n_epochs = n_epochs\n",
        "        self.random_state = random_state\n",
        "        self.batch_norm_momentum = batch_norm_momentum\n",
        "        self.dropout_rate = dropout_rate\n",
        "        self._session = None\n",
        "        self.root_logdir = root_logdir\n",
        "        \n",
        "    def _build_hidden(self, inputs):\n",
        "        for layer_index in range(self.n_hidden_layers):\n",
        "            with tf.name_scope(\"hidden\"):\n",
        "                if self.dropout_rate is not None:\n",
        "                    inputs = tf.layers.dropout(inputs, self.dropout_rate, name='hidden-drop-%d' % layer_index, training=self._training)\n",
        "                inputs = tf.layers.dense(inputs, \n",
        "                                         self.n_neurons, \n",
        "                                         name='hidden-%d' % (layer_index + 1), \n",
        "                                         kernel_initializer=self.initializer)\n",
        "                if self.batch_norm_momentum is not None:\n",
        "                    inputs = tf.layers.batch_normalization(inputs, \n",
        "                                                           training=self._training, \n",
        "                                                           momentum=self.batch_norm_momentum,\n",
        "                                                           name='hidden-%d-bn' % (layer_index + 1))\n",
        "                inputs = self.activation(inputs, name='hidden-%d-out' % (layer_index + 1))\n",
        "        return inputs\n",
        "    \n",
        "    def _build_graph(self, n_inputs, n_outputs):\n",
        "        if self.random_state is not None:\n",
        "            tf.set_random_seed(self.random_state)\n",
        "            np.random.seed(self.random_state)\n",
        "        X = tf.placeholder(tf.float32, shape=(None, n_inputs), name='X')\n",
        "        y = tf.placeholder(tf.int32, shape=(None), name='y')\n",
        "        \n",
        "        if self.batch_norm_momentum or self.dropout_rate:\n",
        "            self._training = tf.placeholder_with_default(False, shape=(), name='training')\n",
        "        else:\n",
        "            self._training = None\n",
        "            \n",
        "        hidden_outputs = self._build_hidden(X)\n",
        "        \n",
        "        with tf.name_scope(\"logits\"):\n",
        "            logits = tf.layers.dense(hidden_outputs, n_outputs, kernel_initializer=self.initializer, name='logits')\n",
        "            y_proba = tf.nn.softmax(logits, name='Y_proba')\n",
        "        \n",
        "        with tf.name_scope(\"loss\"):\n",
        "            xentropy = tf.nn.sparse_softmax_cross_entropy_with_logits(labels=y, logits=logits)\n",
        "            loss = tf.reduce_mean(xentropy, name='loss')\n",
        "        \n",
        "        with tf.name_scope(\"train\"):\n",
        "            optimizer = tf.train.AdamOptimizer(learning_rate=self.learning_rate)\n",
        "            training_op = optimizer.minimize(loss, name='training_op')\n",
        "        \n",
        "        with tf.name_scope(\"eval\"):\n",
        "            correct = tf.nn.in_top_k(logits, y, 1)\n",
        "            accuracy = tf.reduce_mean(tf.cast(correct, tf.float32), name='accuracy')\n",
        "            \n",
        "        with tf.name_scope(\"summary\"):\n",
        "            loss_summary = tf.summary.scalar(\"loss\", loss)\n",
        "            acc_summary = tf.summary.scalar(\"accuracy\", accuracy)\n",
        "            \n",
        "        summary = tf.summary.merge_all()\n",
        "            \n",
        "        init = tf.global_variables_initializer()\n",
        "        saver = tf.train.Saver()\n",
        "        self._X = X\n",
        "        self._y = y\n",
        "        self._y_proba = y_proba\n",
        "        self._loss = loss\n",
        "        self._accuracy = accuracy\n",
        "        self._training_op = training_op\n",
        "        self._init = init\n",
        "        self._saver = saver\n",
        "        self._summary = summary\n",
        "        \n",
        "    def close_session(self):\n",
        "        if self._session:\n",
        "            self._session.close()\n",
        "    \n",
        "    @property\n",
        "    def _logdir(self): \n",
        "        now = datetime.now().strftime(\"%Y-%m-%dT%H:%M:%S\")\n",
        "        return os.path.join(self.root_logdir, 'run-%s' % now)\n",
        "\n",
        "\n",
        "    def fit(self, X, y, n_epochs=20, X_valid=None, y_valid=None):\n",
        "        # print('Shape of X:', X.shape)\n",
        "        # print('Shape of y:', y.shape)\n",
        "        self.close_session()\n",
        "        n_inputs = X.shape[1]\n",
        "        self.classes_ = np.unique(y)\n",
        "        # print(self.classes_)\n",
        "        n_outputs = len(self.classes_)\n",
        "        self.class_to_index_ = {label: index\n",
        "                            for index, label in enumerate(self.classes_)}\n",
        "        y = np.array([self.class_to_index_[label]\n",
        "                      for label in y], dtype=np.int32)\n",
        "        self._graph = tf.Graph()\n",
        "        with self._graph.as_default():\n",
        "            self._build_graph(n_inputs, n_outputs)\n",
        "            # extra ops for batch normalization\n",
        "            extra_update_ops = tf.get_collection(tf.GraphKeys.UPDATE_OPS)\n",
        "\n",
        "        self._session = tf.Session(graph=self._graph)\n",
        "        best_loss = np.infty\n",
        "        \n",
        "        logdir = self._logdir\n",
        "        \n",
        "        with self._session.as_default() as sess:\n",
        "            train_writer = tf.summary.FileWriter(logdir + '/train', sess.graph)\n",
        "            val_writer = tf.summary.FileWriter(logdir + '/val')\n",
        "            self._init.run()\n",
        "            # self._saver.save()\n",
        "            for epoch in range(1, n_epochs + 1):\n",
        "                rnd_idx = np.random.permutation(len(X))\n",
        "                i_batch = 0\n",
        "                train_loss_sum = 0\n",
        "                for rnd_indices in np.array_split(rnd_idx, len(X) // self.batch_size):\n",
        "                    X_batch, y_batch = X[rnd_indices], y[rnd_indices]\n",
        "                    feed_dict = {self._X: X_batch, self._y: y_batch}\n",
        "                    if self._training is not None:\n",
        "                        feed_dict[self._training] = True\n",
        "                    train_loss, summary, _ = sess.run([self._loss, self._summary, self._training_op], feed_dict=feed_dict)\n",
        "                    train_loss_sum += train_loss\n",
        "                    i_batch += 1\n",
        "                    if extra_update_ops:\n",
        "                        sess.run(extra_update_ops, feed_dict=feed_dict)\n",
        "                \n",
        "                train_loss = train_loss_sum / i_batch\n",
        "                train_writer.add_summary(summary, epoch)\n",
        "                if epoch % 5 ==0 and X_valid is not None and y_valid is not None:\n",
        "                    loss_val, acc_val, summary = sess.run([self._loss, self._accuracy, self._summary],\n",
        "                                                 feed_dict={self._X: X_valid,\n",
        "                                                            self._y: y_valid})\n",
        "                    if loss_val < best_loss:\n",
        "                        best_loss = loss_val\n",
        "                    val_writer.add_summary(summary, epoch)\n",
        "                    print(\"{}\\tTraining loss: {:.6f}\\tValidation loss: {:.6f}\\tBest loss: {:.6f}\\tAccuracy: {:.2f}%\".format(\n",
        "                        epoch, train_loss, loss_val, best_loss, acc_val * 100))\n",
        "            self._saver.save(sess, os.path.join(logdir, 'model_final.ckpt'))\n",
        "            train_writer.close()\n",
        "            val_writer.close()\n",
        "        return self\n",
        "    \n",
        "    def predict_proba(self, X):\n",
        "        if not self._session:\n",
        "            raise NotFittedError(\"This %s instance is not fitted yet\" % self.__class__.__name__)\n",
        "        with self._session.as_default() as sess:\n",
        "            return self._y_proba.eval(feed_dict={self._X: X})\n",
        "\n",
        "    def predict(self, X):\n",
        "        class_indices = np.argmax(self.predict_proba(X), axis=1)\n",
        "        return np.array([[self.classes_[class_index]]\n",
        "                         for class_index in class_indices], np.int32)\n",
        "\n",
        "    def save(self, path):\n",
        "        self._saver.save(self._session, path)\n",
        "\n",
        "N_INPUTS = 28*28\n",
        "\n",
        "MNIST = input_data.read_data_sets(\"/tmp/mnist/data\")\n",
        "X_train = MNIST.train.images\n",
        "y_train = MNIST.train.labels\n",
        "X_valid = MNIST.validation.images\n",
        "y_valid = MNIST.validation.labels\n",
        "\n",
        "nn_clf = NeuralNetworkClassifier(batch_norm_momentum=0.9, \n",
        "                                 dropout_rate=0.5,\n",
        "                                 n_hidden_layers=2,\n",
        "                                 n_neurons=100).fit(X_train, \n",
        "                                              y_train, \n",
        "                                              X_valid=X_valid,\n",
        "                                              y_valid=y_valid, \n",
        "                                              n_epochs=10)\n",
        "\n",
        "nn_clf.close_session()"
      ],
      "execution_count": 0,
      "outputs": [
        {
          "output_type": "stream",
          "text": [
            "Extracting /tmp/mnist/data/train-images-idx3-ubyte.gz\n",
            "Extracting /tmp/mnist/data/train-labels-idx1-ubyte.gz\n",
            "Extracting /tmp/mnist/data/t10k-images-idx3-ubyte.gz\n",
            "Extracting /tmp/mnist/data/t10k-labels-idx1-ubyte.gz\n",
            "5\tTraining loss: 0.338314\tValidation loss: 0.148714\tBest loss: 0.148714\tAccuracy: 95.62%\n",
            "10\tTraining loss: 0.298836\tValidation loss: 0.114671\tBest loss: 0.114671\tAccuracy: 96.66%\n"
          ],
          "name": "stdout"
        }
      ]
    },
    {
      "metadata": {
        "id": "lF6UfU6CmJhQ",
        "colab_type": "text"
      },
      "cell_type": "markdown",
      "source": [
        "### Keras models can also use GPUs"
      ]
    },
    {
      "metadata": {
        "id": "4xX72yfImHQr",
        "colab_type": "code",
        "colab": {
          "base_uri": "https://localhost:8080/",
          "height": 35
        },
        "outputId": "be87bf18-a490-42f9-f99d-45e6b8cf01e8"
      },
      "cell_type": "code",
      "source": [
        "from keras import backend as K\n",
        "print(K.tensorflow_backend._get_available_gpus())"
      ],
      "execution_count": 0,
      "outputs": [
        {
          "output_type": "stream",
          "text": [
            "['/job:localhost/replica:0/task:0/device:GPU:0']\n"
          ],
          "name": "stdout"
        }
      ]
    },
    {
      "metadata": {
        "id": "1GuY-EOJnQLW",
        "colab_type": "code",
        "colab": {
          "base_uri": "https://localhost:8080/",
          "height": 51
        },
        "outputId": "4a5c2455-b602-4bd6-dab6-a27503211b34"
      },
      "cell_type": "code",
      "source": [
        "from keras import layers, models\n",
        "from keras.datasets import mnist\n",
        "from keras.utils import to_categorical\n",
        "\n",
        "# Load data\n",
        "(train_images, train_labels), (test_images, test_labels) = mnist.load_data()\n",
        "\n",
        "def prepare_images(images):\n",
        "    return images.reshape((-1, 28, 28, 1)).astype('float32') / 255.0\n",
        "\n",
        "# Reshape images and scale between zero and one\n",
        "train_images = prepare_images(train_images)\n",
        "test_images = prepare_images(test_images)\n",
        "\n",
        "# Categorical encoding of class labels\n",
        "train_labels = to_categorical(train_labels)\n",
        "test_labels = to_categorical(test_labels)\n"
      ],
      "execution_count": 0,
      "outputs": [
        {
          "output_type": "stream",
          "text": [
            "Downloading data from https://s3.amazonaws.com/img-datasets/mnist.npz\n",
            "11493376/11490434 [==============================] - 3s 0us/step\n"
          ],
          "name": "stdout"
        }
      ]
    },
    {
      "metadata": {
        "id": "SeJ7-BhFnUJu",
        "colab_type": "code",
        "colab": {
          "base_uri": "https://localhost:8080/",
          "height": 666
        },
        "outputId": "3d3ed0c1-2d61-46ce-f064-c26d2f3b89f5"
      },
      "cell_type": "code",
      "source": [
        "model = models.Sequential()\n",
        "\n",
        "# Convolutional network\n",
        "\n",
        "# In the first layers, learn patterns from 3x3 windows\n",
        "model.add(layers.Conv2D(32, (3, 3), activation = 'relu', input_shape = (28, 28, 1)))\n",
        "model.add(layers.MaxPooling2D(2, 2))\n",
        "model.add(layers.Conv2D(64, (3, 3), activation = 'relu'))\n",
        "model.add(layers.MaxPooling2D(2, 2))\n",
        "model.add(layers.Conv2D(64, (3, 3), activation = 'relu'))\n",
        "\n",
        "# Classifier\n",
        "model.add(layers.Flatten())\n",
        "model.add(layers.Dense(64, activation = 'relu'))\n",
        "model.add(layers.Dense(10, activation = 'softmax'))\n",
        "\n",
        "model.compile(optimizer = 'rmsprop',\n",
        "              loss = 'categorical_crossentropy', \n",
        "              metrics = ['accuracy'])\n",
        "\n",
        "print(model.summary())\n",
        "\n",
        "used_images = 5000\n",
        "history = model.fit(train_images[0:used_images], train_labels[0:used_images], epochs = 5, batch_size = 64, validation_split=0.20)\n",
        "test_loss, test_acc = model.evaluate(test_images, test_labels)\n",
        "print('Test accuracy %.4f' % test_acc)"
      ],
      "execution_count": 0,
      "outputs": [
        {
          "output_type": "stream",
          "text": [
            "_________________________________________________________________\n",
            "Layer (type)                 Output Shape              Param #   \n",
            "=================================================================\n",
            "conv2d_4 (Conv2D)            (None, 26, 26, 32)        320       \n",
            "_________________________________________________________________\n",
            "max_pooling2d_3 (MaxPooling2 (None, 13, 13, 32)        0         \n",
            "_________________________________________________________________\n",
            "conv2d_5 (Conv2D)            (None, 11, 11, 64)        18496     \n",
            "_________________________________________________________________\n",
            "max_pooling2d_4 (MaxPooling2 (None, 5, 5, 64)          0         \n",
            "_________________________________________________________________\n",
            "conv2d_6 (Conv2D)            (None, 3, 3, 64)          36928     \n",
            "_________________________________________________________________\n",
            "flatten_2 (Flatten)          (None, 576)               0         \n",
            "_________________________________________________________________\n",
            "dense_3 (Dense)              (None, 64)                36928     \n",
            "_________________________________________________________________\n",
            "dense_4 (Dense)              (None, 10)                650       \n",
            "=================================================================\n",
            "Total params: 93,322\n",
            "Trainable params: 93,322\n",
            "Non-trainable params: 0\n",
            "_________________________________________________________________\n",
            "None\n",
            "Train on 4000 samples, validate on 1000 samples\n",
            "Epoch 1/5\n",
            "4000/4000 [==============================] - 2s 512us/step - loss: 0.9020 - acc: 0.7135 - val_loss: 0.3433 - val_acc: 0.9040\n",
            "Epoch 2/5\n",
            "4000/4000 [==============================] - 1s 196us/step - loss: 0.2740 - acc: 0.9177 - val_loss: 0.4191 - val_acc: 0.8730\n",
            "Epoch 3/5\n",
            "4000/4000 [==============================] - 1s 192us/step - loss: 0.1771 - acc: 0.9460 - val_loss: 0.2081 - val_acc: 0.9430\n",
            "Epoch 4/5\n",
            "4000/4000 [==============================] - 1s 193us/step - loss: 0.1329 - acc: 0.9600 - val_loss: 0.3885 - val_acc: 0.8670\n",
            "Epoch 5/5\n",
            "4000/4000 [==============================] - 1s 196us/step - loss: 0.0975 - acc: 0.9708 - val_loss: 0.2766 - val_acc: 0.9180\n",
            "10000/10000 [==============================] - 1s 108us/step\n",
            "Test accuracy 0.9258\n"
          ],
          "name": "stdout"
        }
      ]
    },
    {
      "metadata": {
        "id": "xCq0c9nZnYEw",
        "colab_type": "code",
        "colab": {
          "base_uri": "https://localhost:8080/",
          "height": 566
        },
        "outputId": "960f2af0-f12a-4461-e25b-16cb51e14b3b"
      },
      "cell_type": "code",
      "source": [
        "import matplotlib.pyplot as plt\n",
        "%matplotlib inline\n",
        "\n",
        "epochs = len(history.history['loss'])\n",
        "\n",
        "plt.plot(range(1, epochs + 1), history.history['loss'], 'bo-', label = 'Training loss')\n",
        "plt.plot(range(1, epochs + 1), history.history['val_loss'], 'rs--', label = 'Validation loss')\n",
        "plt.xlabel('Epoch')\n",
        "plt.ylabel('Loss')\n",
        "plt.legend()\n",
        "\n",
        "plt.figure()\n",
        "plt.plot(range(1, epochs + 1), history.history['acc'], 'bo-', label = 'Training accuracy')\n",
        "plt.plot(range(1, epochs + 1), history.history['val_acc'], 'rs--', label = 'Validation accuracy')\n",
        "plt.xlabel('Epoch')\n",
        "plt.ylabel('Accuracy')\n",
        "plt.legend()"
      ],
      "execution_count": 0,
      "outputs": [
        {
          "output_type": "execute_result",
          "data": {
            "text/plain": [
              "<matplotlib.legend.Legend at 0x7f7ca05ca1d0>"
            ]
          },
          "metadata": {
            "tags": []
          },
          "execution_count": 25
        },
        {
          "output_type": "display_data",
          "data": {
            "image/png": "[encoded data removed]",
            "text/plain": [
              "<matplotlib.figure.Figure at 0x7f7c72092780>"
            ]
          },
          "metadata": {
            "tags": []
          }
        },
        {
          "output_type": "display_data",
          "data": {
            "image/png": "[encoded data removed]",
            "text/plain": [
              "<matplotlib.figure.Figure at 0x7f7c447ac1d0>"
            ]
          },
          "metadata": {
            "tags": []
          }
        }
      ]
    },
    {
      "metadata": {
        "id": "yEcRkN27niNC",
        "colab_type": "code",
        "colab": {
          "base_uri": "https://localhost:8080/",
          "height": 1337
        },
        "outputId": "6744f439-6ee9-4d5b-f75f-46e5761e1612"
      },
      "cell_type": "code",
      "source": [
        "predicted_labels = to_categorical(model.predict_classes(test_images))\n",
        "\n",
        "# Indices of failed predictions, there's probably a simpler way to do this\n",
        "import numpy as np\n",
        "failures = np.nonzero(np.sum(np.abs(predicted_labels - test_labels), axis = 1))[0]\n",
        "\n",
        "import matplotlib.pyplot as plt\n",
        "%matplotlib inline\n",
        "\n",
        "def plot_for_ind(ind):\n",
        "    img_failed = test_images[ind_failed]\n",
        "\n",
        "    predicted_label = np.nonzero(predicted_labels[ind_failed])[0][0]\n",
        "    labeled = np.nonzero(test_labels[ind_failed])[0][0]\n",
        "\n",
        "    plt.imshow(np.reshape(img_failed, (28, 28)), cmap='Greys',  interpolation='nearest')\n",
        "\n",
        "    plt.title('Predicted %d, labeled %d' % (predicted_label, labeled))\n",
        "    plt.show()\n",
        "\n",
        "# Visualize five of failed predictions\n",
        "for ind_failed in failures[0:5]:\n",
        "    plot_for_ind(ind_failed)"
      ],
      "execution_count": 0,
      "outputs": [
        {
          "output_type": "display_data",
          "data": {
            "image/png": "[encoded data removed]",
            "text/plain": [
              "<matplotlib.figure.Figure at 0x7f7c720275f8>"
            ]
          },
          "metadata": {
            "tags": []
          }
        },
        {
          "output_type": "display_data",
          "data": {
            "image/png": "[encoded data removed]",
            "text/plain": [
              "<matplotlib.figure.Figure at 0x7f7ca058d978>"
            ]
          },
          "metadata": {
            "tags": []
          }
        },
        {
          "output_type": "display_data",
          "data": {
            "image/png": "[encoded data removed]",
            "text/plain": [
              "<matplotlib.figure.Figure at 0x7f7d0d4a2160>"
            ]
          },
          "metadata": {
            "tags": []
          }
        },
        {
          "output_type": "display_data",
          "data": {
            "image/png": "[encoded data removed]",
            "text/plain": [
              "<matplotlib.figure.Figure at 0x7f7c708545c0>"
            ]
          },
          "metadata": {
            "tags": []
          }
        },
        {
          "output_type": "display_data",
          "data": {
            "image/png": "[encoded data removed]",
            "text/plain": [
              "<matplotlib.figure.Figure at 0x7f7c708bd668>"
            ]
          },
          "metadata": {
            "tags": []
          }
        }
      ]
    }
  ]
}